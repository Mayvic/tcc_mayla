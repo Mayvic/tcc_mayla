{
 "cells": [
  {
   "cell_type": "code",
   "execution_count": 2,
   "metadata": {},
   "outputs": [],
   "source": [
    "import pandas as pd\n",
    "import matplotlib.pyplot as plt\n",
    "from ambiente import usedAmbiente"
   ]
  },
  {
   "cell_type": "code",
   "execution_count": 3,
   "metadata": {},
   "outputs": [
    {
     "name": "stderr",
     "output_type": "stream",
     "text": [
      "C:\\Users\\mayla\\AppData\\Local\\Temp\\ipykernel_308\\3358569032.py:1: ParserWarning: Falling back to the 'python' engine because the 'c' engine does not support regex separators (separators > 1 char and different from '\\s+' are interpreted as regex); you can avoid this warning by specifying engine='python'.\n",
      "  coordPoints = pd.read_csv(usedAmbiente.coord, sep='\\t|:', header=None, names=['id', 'x', 'y','z'])\n"
     ]
    }
   ],
   "source": [
    "coordPoints = pd.read_csv(usedAmbiente.coord, sep='\\t|:', header=None, names=['id', 'x', 'y','z'])\n",
    "aps = coordPoints.iloc[0:7]\n",
    "rps = coordPoints.iloc[7:]"
   ]
  },
  {
   "cell_type": "code",
   "execution_count": 4,
   "metadata": {},
   "outputs": [
    {
     "data": {
      "text/html": [
       "<div>\n",
       "<style scoped>\n",
       "    .dataframe tbody tr th:only-of-type {\n",
       "        vertical-align: middle;\n",
       "    }\n",
       "\n",
       "    .dataframe tbody tr th {\n",
       "        vertical-align: top;\n",
       "    }\n",
       "\n",
       "    .dataframe thead th {\n",
       "        text-align: right;\n",
       "    }\n",
       "</style>\n",
       "<table border=\"1\" class=\"dataframe\">\n",
       "  <thead>\n",
       "    <tr style=\"text-align: right;\">\n",
       "      <th></th>\n",
       "      <th>id</th>\n",
       "      <th>x</th>\n",
       "      <th>y</th>\n",
       "      <th>z</th>\n",
       "    </tr>\n",
       "  </thead>\n",
       "  <tbody>\n",
       "    <tr>\n",
       "      <th>0</th>\n",
       "      <td>0</td>\n",
       "      <td>12.146200</td>\n",
       "      <td>10.123900</td>\n",
       "      <td>1</td>\n",
       "    </tr>\n",
       "    <tr>\n",
       "      <th>1</th>\n",
       "      <td>1</td>\n",
       "      <td>4.135610</td>\n",
       "      <td>9.755690</td>\n",
       "      <td>1</td>\n",
       "    </tr>\n",
       "    <tr>\n",
       "      <th>2</th>\n",
       "      <td>2</td>\n",
       "      <td>3.377980</td>\n",
       "      <td>11.574200</td>\n",
       "      <td>1</td>\n",
       "    </tr>\n",
       "    <tr>\n",
       "      <th>3</th>\n",
       "      <td>3</td>\n",
       "      <td>18.687200</td>\n",
       "      <td>17.270300</td>\n",
       "      <td>1</td>\n",
       "    </tr>\n",
       "    <tr>\n",
       "      <th>4</th>\n",
       "      <td>4</td>\n",
       "      <td>2.217090</td>\n",
       "      <td>5.038510</td>\n",
       "      <td>1</td>\n",
       "    </tr>\n",
       "    <tr>\n",
       "      <th>5</th>\n",
       "      <td>5</td>\n",
       "      <td>0.570786</td>\n",
       "      <td>12.750100</td>\n",
       "      <td>1</td>\n",
       "    </tr>\n",
       "    <tr>\n",
       "      <th>6</th>\n",
       "      <td>6</td>\n",
       "      <td>9.409540</td>\n",
       "      <td>0.737763</td>\n",
       "      <td>1</td>\n",
       "    </tr>\n",
       "  </tbody>\n",
       "</table>\n",
       "</div>"
      ],
      "text/plain": [
       "   id          x          y  z\n",
       "0   0  12.146200  10.123900  1\n",
       "1   1   4.135610   9.755690  1\n",
       "2   2   3.377980  11.574200  1\n",
       "3   3  18.687200  17.270300  1\n",
       "4   4   2.217090   5.038510  1\n",
       "5   5   0.570786  12.750100  1\n",
       "6   6   9.409540   0.737763  1"
      ]
     },
     "execution_count": 4,
     "metadata": {},
     "output_type": "execute_result"
    }
   ],
   "source": [
    "aps"
   ]
  },
  {
   "cell_type": "code",
   "execution_count": 7,
   "metadata": {},
   "outputs": [
    {
     "data": {
      "text/plain": [
       "<matplotlib.collections.PathCollection at 0x1ff17764f70>"
      ]
     },
     "execution_count": 7,
     "metadata": {},
     "output_type": "execute_result"
    },
    {
     "data": {
      "image/png": "[encoded data removed]",
      "text/plain": [
       "<Figure size 640x480 with 1 Axes>"
      ]
     },
     "metadata": {},
     "output_type": "display_data"
    }
   ],
   "source": [
    "plt.xlim(0,20)\n",
    "plt.ylim(0,20)\n",
    "plt.scatter(rps.x, rps.y, c='lightblue')\n",
    "plt.scatter(aps.x, aps.y, c='r')\n",
    "if usedAmbiente.wall : \n",
    "    plt.axhline(20/3)\n",
    "    plt.axhline(20/3*2)\n",
    "    plt.axvline(20/3)\n",
    "    plt.axvline(20/3*2)\n",
    "\n",
    "#o ponto 72 recebe apenas 5 leituras do ap 6 (nao recebe 98)\n",
    "#plt.scatter(16.6667, 3.33333, c='green')\n",
    "#plt.scatter(0.570786, 12.7501, c='green')\n",
    "#o ponto 9 recebe 70 leituras do ap 4 (nao recebe 32)\n",
    "#plt.scatter(1.11111, 3.33333, c='purple')\n",
    "#plt.scatter(18.6872, 17.2703, c='purple')\n"
   ]
  }
 ],
 "metadata": {
  "kernelspec": {
   "display_name": "Python 3",
   "language": "python",
   "name": "python3"
  },
  "language_info": {
   "codemirror_mode": {
    "name": "ipython",
    "version": 3
   },
   "file_extension": ".py",
   "mimetype": "text/x-python",
   "name": "python",
   "nbconvert_exporter": "python",
   "pygments_lexer": "ipython3",
   "version": "3.9.2"
  },
  "orig_nbformat": 4
 },
 "nbformat": 4,
 "nbformat_minor": 2
}
