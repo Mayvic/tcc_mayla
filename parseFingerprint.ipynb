{
 "cells": [
  {
   "cell_type": "code",
   "execution_count": 419,
   "metadata": {},
   "outputs": [
    {
     "name": "stdout",
     "output_type": "stream",
     "text": [
      "The autoreload extension is already loaded. To reload it, use:\n",
      "  %reload_ext autoreload\n"
     ]
    }
   ],
   "source": [
    "%load_ext autoreload\n",
    "%autoreload 2"
   ]
  },
  {
   "cell_type": "code",
   "execution_count": 420,
   "metadata": {},
   "outputs": [],
   "source": [
    "import pandas as pd\n",
    "import numpy as np\n",
    "from ambiente import usedAmbiente"
   ]
  },
  {
   "cell_type": "code",
   "execution_count": 421,
   "metadata": {},
   "outputs": [],
   "source": [
    "coordPoints = pd.read_csv(usedAmbiente.coord, sep='\\t', header=None, names=['id', 'coord'])"
   ]
  },
  {
   "cell_type": "code",
   "execution_count": 422,
   "metadata": {},
   "outputs": [],
   "source": [
    "trace = pd.read_csv(usedAmbiente.trace, sep='\\t', header=None, names=['timestamp', 'transmissor', 'receptor', 'snr'])\n"
   ]
  },
  {
   "cell_type": "code",
   "execution_count": 423,
   "metadata": {},
   "outputs": [],
   "source": [
    "trace = trace.sort_values(['receptor','transmissor','timestamp']) #ordena na ordem dos parãmetros\n",
    "aps = ['00:00:00:00:00:01','00:00:00:00:00:02','00:00:00:00:00:03','00:00:00:00:00:04','00:00:00:00:00:05','00:00:00:00:00:06','00:00:00:00:00:07']\n",
    "trace = trace[~trace.receptor.isin(aps)]"
   ]
  },
  {
   "cell_type": "code",
   "execution_count": 424,
   "metadata": {},
   "outputs": [],
   "source": [
    "coordPoints = coordPoints.iloc[7:]"
   ]
  },
  {
   "cell_type": "code",
   "execution_count": 425,
   "metadata": {},
   "outputs": [],
   "source": [
    "trace['time'] = np.floor(trace.timestamp) #corta o tempo em inteiro\n"
   ]
  },
  {
   "cell_type": "code",
   "execution_count": 426,
   "metadata": {},
   "outputs": [],
   "source": [
    "groupedByTime = trace.groupby(['receptor','transmissor','time'], as_index= False).agg({'snr':'mean'}) #calcula a media do snr para cada par receptor-transmissor no tempo X"
   ]
  },
  {
   "cell_type": "code",
   "execution_count": 427,
   "metadata": {},
   "outputs": [],
   "source": [
    "groupedByReceptor = groupedByTime.pivot(columns='transmissor', index=['receptor','time'],values='snr') #indexa o snr de cada transmissor ao par receptor-tempo"
   ]
  },
  {
   "cell_type": "code",
   "execution_count": 428,
   "metadata": {},
   "outputs": [],
   "source": [
    "groupedByReceptor= groupedByReceptor-98 # calcula o dbm"
   ]
  },
  {
   "cell_type": "code",
   "execution_count": 429,
   "metadata": {},
   "outputs": [],
   "source": [
    "#groupedByReceptor.to_csv('groupedByReceptor.tsv', '\\t')"
   ]
  },
  {
   "cell_type": "code",
   "execution_count": 430,
   "metadata": {},
   "outputs": [],
   "source": [
    "groupedByReceptor = groupedByReceptor.dropna() #apaga todos os NAN\n",
    "#groupedByReceptor = groupedByReceptor.fillna(0) #substitui todos os NAN\n",
    "groupedByReceptor = groupedByReceptor.apply(lambda line: ','.join(line.astype(str)),axis=1) #junta todos os dbm para formar o vetor fingerprint\n",
    "groupedByReceptor = groupedByReceptor.rename('fingerprint') "
   ]
  },
  {
   "cell_type": "code",
   "execution_count": 431,
   "metadata": {},
   "outputs": [],
   "source": [
    "coordPoints.id +=8 #acerta o index para que a contagem de transmissores e receptores seja continua\n",
    "coordPoints.id = coordPoints.id.map(lambda id : '00:00:00:00:00:{:02X}'.format(id).lower()) #formata e converte o index para HEX"
   ]
  },
  {
   "cell_type": "code",
   "execution_count": 432,
   "metadata": {},
   "outputs": [],
   "source": [
    "groupedByReceptor= groupedByReceptor.reset_index() #receptor e time voltam a ser colunas"
   ]
  },
  {
   "cell_type": "code",
   "execution_count": 433,
   "metadata": {},
   "outputs": [],
   "source": [
    "fingerprint1 = groupedByReceptor.merge(coordPoints,how='left',  left_on='receptor', right_on='id') #juntas as duas tabelas"
   ]
  },
  {
   "cell_type": "code",
   "execution_count": 434,
   "metadata": {},
   "outputs": [],
   "source": [
    "#fingerprint1[fingerprint1['id'].isna()].receptor.unique()\n",
    "fingerprint1 = fingerprint1[['coord', 'fingerprint']] #remove os campos extras"
   ]
  },
  {
   "cell_type": "code",
   "execution_count": 435,
   "metadata": {},
   "outputs": [
    {
     "name": "stderr",
     "output_type": "stream",
     "text": [
      "C:\\Users\\mayla\\AppData\\Local\\Temp\\ipykernel_5820\\3662866187.py:1: FutureWarning: Starting with pandas version 3.0 all arguments of to_csv except for the argument 'path_or_buf' will be keyword-only.\n",
      "  fingerprint1.to_csv(usedAmbiente.exitFile, '\\t', index=False, header=False)\n"
     ]
    }
   ],
   "source": [
    "fingerprint1.to_csv(usedAmbiente.exitFile, '\\t', index=False, header=False)"
   ]
  },
  {
   "cell_type": "code",
   "execution_count": null,
   "metadata": {},
   "outputs": [],
   "source": []
  }
 ],
 "metadata": {
  "kernelspec": {
   "display_name": "Python 3",
   "language": "python",
   "name": "python3"
  },
  "language_info": {
   "codemirror_mode": {
    "name": "ipython",
    "version": 3
   },
   "file_extension": ".py",
   "mimetype": "text/x-python",
   "name": "python",
   "nbconvert_exporter": "python",
   "pygments_lexer": "ipython3",
   "version": "3.9.2"
  },
  "orig_nbformat": 4
 },
 "nbformat": 4,
 "nbformat_minor": 2
}
