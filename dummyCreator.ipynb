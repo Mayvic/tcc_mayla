{
 "cells": [
  {
   "cell_type": "code",
   "execution_count": 19,
   "metadata": {},
   "outputs": [],
   "source": [
    "import numpy as np\n",
    "import pandas as pd"
   ]
  },
  {
   "cell_type": "code",
   "execution_count": 20,
   "metadata": {},
   "outputs": [],
   "source": [
    "fingerprint = [-39.98089999999999,-60.1974,-60.99898,-66.29086,-65.37309,-61.68098,-75.68137]\n",
    "####ler o fingerprint dos valores de teste"
   ]
  },
  {
   "cell_type": "code",
   "execution_count": 21,
   "metadata": {},
   "outputs": [],
   "source": [
    "#printa o fingerprint e os dummys\n",
    "def printFingerprintAndDummys(dummys): \n",
    "    print(\"f\",fingerprint)\n",
    "    for d in dummys:\n",
    "        print(\"d\",d)\n"
   ]
  },
  {
   "cell_type": "code",
   "execution_count": 22,
   "metadata": {},
   "outputs": [],
   "source": [
    "#altera o valor de qtPos posições aleatórias do fingerprint\n",
    "def generateDummySwap(fingerprint, qtPos=2): \n",
    "    #qtPos = qt de posições a serem alteradas\n",
    "    dummysResp = fingerprint.copy()\n",
    "    randomPos = np.random.choice(range(0,len(fingerprint)-1),qtPos, replace=False) \n",
    "    #sorteia qtPos posições entre 0 e 7(tamanho do fingerprint) com valores unicos(replace=False)\n",
    "    pos =[]\n",
    "    for rp in randomPos:\n",
    "        pos.append(fingerprint[rp]) #cria um vetor so com as posições sorteadas\n",
    "    pos = pos[1:] + pos[: 1] #muda as posições do vetor\n",
    "    i=0\n",
    "    for rp in randomPos:\n",
    "        dummysResp[rp] = pos[i] #volta os valores, agora com as posições trocadas, para o vetor original\n",
    "        i=i+1\n",
    "    return dummysResp"
   ]
  },
  {
   "cell_type": "code",
   "execution_count": 23,
   "metadata": {},
   "outputs": [],
   "source": [
    "#realiza o shift left das posições do fingerprint\n",
    "def generateDummyShift( fingerprint, qtPos=1):\n",
    "    #qtPos = qt de posições a serem alteradas\n",
    "    pos = (qtPos) % len(fingerprint) \n",
    "    #a cada dummy ira alterar (qtPos) casas\n",
    "    #caso esse valor seja maior que o tamanho do vetor é feito o modulo\n",
    "    dummyResp =  fingerprint[pos:] + fingerprint[: pos]\n",
    "    return dummyResp"
   ]
  },
  {
   "cell_type": "code",
   "execution_count": 24,
   "metadata": {},
   "outputs": [],
   "source": [
    "#soma um valor aleatório a qtPos aleatorias do fingerprint\n",
    "def generateDummyMath( fingerprint, value, qtPos=1):\n",
    "    #qtPos = qt de posições a serem alteradas\n",
    "    #if(not value): value = np.random.random() * 20 -10 #sorteia um valor para ser somado\n",
    "    dummysResp = fingerprint.copy()\n",
    "    randomPos = np.random.choice(range(0,len(fingerprint)-1),qtPos, replace=False)\n",
    "    #sorteia qtPos posições entre 0 e 7(tamanho do fingerprint) com valores unicos(replace=False)\n",
    "    #print(randomPos)\n",
    "    for rp in randomPos:\n",
    "            dummysResp[rp] += value #soma o valor apenas nas posições sorteadas\n",
    "    return dummysResp"
   ]
  },
  {
   "cell_type": "code",
   "execution_count": 25,
   "metadata": {},
   "outputs": [],
   "source": [
    "#soma um vetor aleatório ao fingerprint\n",
    "def generateDummyMathVector( fingerprint, vector):\n",
    "    dummysResp=[]\n",
    "    #if(not vector): vector = np.random.random(len(fingerprint)) * 20 -10  #sorteia um vetor de valores para ser somado\n",
    "    dummysResp = np.add(fingerprint,vector) #soma os vetores\n",
    "    return dummysResp"
   ]
  },
  {
   "cell_type": "code",
   "execution_count": 38,
   "metadata": {},
   "outputs": [],
   "source": [
    "#multiplica uma matriz aleatória próxima a identidade pelo fingerprint \n",
    "def generateDummyMathMatrix(fingerprint, variation=0.1):\n",
    "    #qtDummy = qt de fingerprints dummy a serem criados\n",
    "    matrix = np.eye(len(fingerprint)) #cria a matriz aleatoria do tamanho do fingerprint\n",
    "    qtPos = np.random.randint(0,10) #sorteia uma quantidade de posições da matriz identidade para ser alterada\n",
    "    for rnd in range(qtPos):\n",
    "        posX = np.random.randint(0,len(fingerprint)) #sorteia uma posição X\n",
    "        posY = np.random.randint(0,len(fingerprint)) #sorteia uma posição Y\n",
    "        value = np.random.uniform(-variation, variation)#sorteia um valor entre -variation e variation\n",
    "        matrix[posX][posY] += value #soma o valor na posição [X][Y] da matriz\n",
    "    dummysResp = np.matmul(matrix,fingerprint) #multiplica a matriz pelo fingerprint\n",
    "    return dummysResp"
   ]
  },
  {
   "cell_type": "code",
   "execution_count": 39,
   "metadata": {},
   "outputs": [
    {
     "name": "stdout",
     "output_type": "stream",
     "text": [
      "dummysSwap\n",
      "dummysShift\n",
      "dummysMath\n",
      "dummysMathVector\n",
      "dummysMathMatrix\n",
      "f [-39.98089999999999, -60.1974, -60.99898, -66.29086, -65.37309, -61.68098, -75.68137]\n",
      "d [-39.9809     -60.1974     -60.99898    -68.17366742 -65.37309\n",
      " -61.68098    -75.68137   ]\n",
      "d [-39.9809     -66.61419613 -71.73025215 -57.0816825  -65.37309\n",
      " -69.66245701 -75.68137   ]\n",
      "d [-39.9809     -53.46320319 -60.99898    -65.43993259 -79.08984728\n",
      " -69.31438495 -77.4109639 ]\n",
      "d [-47.02956319 -64.35990854 -60.99898    -66.29086    -65.37309\n",
      " -58.27726313 -73.34888852]\n",
      "d [-32.21675775 -60.1974     -54.27700212 -66.37176262 -65.37309\n",
      " -58.38486423 -70.8261583 ]\n"
     ]
    }
   ],
   "source": [
    "qtDummy = 5\n",
    "dummysSwap= []\n",
    "dummysShift= []\n",
    "dummysMath= []\n",
    "dummysMathVector= []\n",
    "dummysMathMatrix = []\n",
    "for i in range(0,qtDummy):\n",
    "    ####SWAP\n",
    "    swap= generateDummySwap(fingerprint,2)\n",
    "    dummysSwap.append(swap)\n",
    "\n",
    "    ####SHIFT\n",
    "    shift = generateDummyShift(fingerprint,1)\n",
    "    dummysShift.append(shift)\n",
    "\n",
    "    ####MATH\n",
    "    #value = np.random.random() * 40 -20 #sorteia um valor para ser somado\n",
    "    value = np.random.uniform(-40,40) #sorteia um valor para ser somado\n",
    "    math = generateDummyMath(fingerprint, value, 1)\n",
    "    dummysMath.append(math)\n",
    "\n",
    "    ####VECTOR\n",
    "    #vector = np.random.random(len(fingerprint)) * 20 -10  #sorteia um vetor de valores para ser somado\n",
    "    vector = np.random.uniform(-40,40,len(fingerprint))  #sorteia um vetor de valores para ser somado\n",
    "    mathVector = generateDummyMathVector(fingerprint,vector)\n",
    "    dummysMathVector.append(mathVector)\n",
    "\n",
    "    ####MATRIX\n",
    "    ##testar valores de alteração da matriz \n",
    "    mathMatrix = generateDummyMathMatrix(fingerprint, 0.2)\n",
    "    dummysMathMatrix.append(mathMatrix)\n",
    "\n",
    "\n",
    "print(\"dummysSwap\")\n",
    "##OK## printFingerprintAndDummys(dummysSwap)\n",
    "#dummysSwap.to_csv(\"dummysSwap\", '\\n', index=False, header=False)\n",
    "\n",
    "print(\"dummysShift\")\n",
    "##OK## printFingerprintAndDummys(dummysShift)\n",
    "\n",
    "print(\"dummysMath\")\n",
    "##OK## printFingerprintAndDummys(dummysMath)\n",
    "\n",
    "#o vector precisa ser do mesmo tamanho do fingerprint\n",
    "print(\"dummysMathVector\")\n",
    "##OK## printFingerprintAndDummys(dummysMathVector)\n",
    "\n",
    "print(\"dummysMathMatrix\")\n",
    "##OK## printFingerprintAndDummys(dummysMathMatrix)"
   ]
  }
 ],
 "metadata": {
  "kernelspec": {
   "display_name": "Python 3",
   "language": "python",
   "name": "python3"
  },
  "language_info": {
   "codemirror_mode": {
    "name": "ipython",
    "version": 3
   },
   "file_extension": ".py",
   "mimetype": "text/x-python",
   "name": "python",
   "nbconvert_exporter": "python",
   "pygments_lexer": "ipython3",
   "version": "3.9.2"
  }
 },
 "nbformat": 4,
 "nbformat_minor": 2
}
