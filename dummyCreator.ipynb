{
 "cells": [
  {
   "cell_type": "code",
   "execution_count": 33,
   "metadata": {},
   "outputs": [],
   "source": [
    "import numpy as np\n",
    "fingerprint = [-39.98089999999999,-60.1974,-60.99898,-66.29086,-65.37309,-61.68098,-75.68137]\n",
    "\n"
   ]
  },
  {
   "cell_type": "code",
   "execution_count": 61,
   "metadata": {},
   "outputs": [],
   "source": [
    "def generateDummySwap( fingerprint, qt=2, qtDummy=5 ):\n",
    "\n",
    "  dummysResp=[]\n",
    "  dummy=fingerprint.copy()\n",
    "  for i in range(0,qtDummy):\n",
    "    rng = np.random.default_rng()\n",
    "    randomPos = rng.integers(low=0, high=len(fingerprint)-1, size=qt)  \n",
    "    #randomPos = np.random.sample(range(0,len(fingerprint)-1),qt)\n",
    "      #como faz pra nao repetir?\n",
    "    print(randomPos)\n",
    "    pos =[]\n",
    "    \n",
    "    for rp in randomPos:\n",
    "      pos.append(fingerprint[rp])\n",
    "    pos = pos[1:] + pos[: 1]\n",
    "    i=0\n",
    "    for rp in randomPos:\n",
    "      dummy[rp] = pos[i]\n",
    "      i=i+1\n",
    "    dummysResp.append(dummy)\n",
    "  return dummysResp\n",
    "\n",
    "  \n"
   ]
  },
  {
   "cell_type": "code",
   "execution_count": 63,
   "metadata": {},
   "outputs": [
    {
     "name": "stdout",
     "output_type": "stream",
     "text": [
      "[5 4]\n",
      "[5 2]\n",
      "[2 1]\n",
      "[-39.98089999999999, -60.1974, -60.99898, -66.29086, -65.37309, -61.68098, -75.68137]\n",
      "[[-39.98089999999999, -60.99898, -60.1974, -66.29086, -61.68098, -60.99898, -75.68137], [-39.98089999999999, -60.99898, -60.1974, -66.29086, -61.68098, -60.99898, -75.68137], [-39.98089999999999, -60.99898, -60.1974, -66.29086, -61.68098, -60.99898, -75.68137]]\n"
     ]
    }
   ],
   "source": [
    "dummysSwap= generateDummySwap(fingerprint,2,3)\n",
    "print(fingerprint)\n",
    "print(dummysSwap)"
   ]
  },
  {
   "cell_type": "code",
   "execution_count": 55,
   "metadata": {},
   "outputs": [],
   "source": [
    "def generateDummyShift( fingerprint, qtPos=1, qtDummy=5 ):\n",
    "    dummy = []\n",
    "    for i in range(0,qtDummy):\n",
    "        dummy.append( fingerprint[qtPos+i:] + fingerprint[: qtPos+i] )\n",
    "    return dummy"
   ]
  },
  {
   "cell_type": "code",
   "execution_count": 57,
   "metadata": {},
   "outputs": [
    {
     "name": "stdout",
     "output_type": "stream",
     "text": [
      "[[-60.1974, -60.99898, -66.29086, -65.37309, -61.68098, -75.68137, -39.98089999999999], [-60.99898, -66.29086, -65.37309, -61.68098, -75.68137, -39.98089999999999, -60.1974]]\n"
     ]
    }
   ],
   "source": [
    "dummysShift=generateDummyShift(fingerprint,1,2)\n",
    "print(dummysShift)"
   ]
  }
 ],
 "metadata": {
  "kernelspec": {
   "display_name": "Python 3",
   "language": "python",
   "name": "python3"
  },
  "language_info": {
   "codemirror_mode": {
    "name": "ipython",
    "version": 3
   },
   "file_extension": ".py",
   "mimetype": "text/x-python",
   "name": "python",
   "nbconvert_exporter": "python",
   "pygments_lexer": "ipython3",
   "version": "3.9.2"
  }
 },
 "nbformat": 4,
 "nbformat_minor": 2
}
