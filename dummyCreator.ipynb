{
 "cells": [
  {
   "cell_type": "code",
   "execution_count": 157,
   "metadata": {},
   "outputs": [],
   "source": [
    "import numpy as np\n",
    "fingerprint = [-39.98089999999999,-60.1974,-60.99898,-66.29086,-65.37309,-61.68098,-75.68137]\n",
    "\n",
    "\n",
    "def printFingerprintAndDummys(dummys):\n",
    "    print(\"f\",fingerprint)\n",
    "    for d in dummys:\n",
    "        print(\"d\",d)\n"
   ]
  },
  {
   "cell_type": "code",
   "execution_count": 158,
   "metadata": {},
   "outputs": [],
   "source": [
    "def generateDummySwap( fingerprint, qtPos=2, qtDummy=5 ):\n",
    "  dummysResp=[]\n",
    "  for i in range(0,qtDummy):\n",
    "    dummy=fingerprint.copy()\n",
    "    randomPos = np.random.choice(range(0,len(fingerprint)-1),qtPos, replace=False)\n",
    "    #print(randomPos)\n",
    "    pos =[]\n",
    "    for rp in randomPos:\n",
    "      pos.append(fingerprint[rp])\n",
    "    pos = pos[1:] + pos[: 1]\n",
    "    i=0\n",
    "    for rp in randomPos:\n",
    "      #print(\"dummy\", dummy[rp])\n",
    "      #print(\"pos\", pos[i])\n",
    "      dummy[rp] = pos[i]\n",
    "      i=i+1\n",
    "    dummysResp.append(dummy)\n",
    "  return dummysResp"
   ]
  },
  {
   "cell_type": "code",
   "execution_count": 159,
   "metadata": {},
   "outputs": [
    {
     "name": "stdout",
     "output_type": "stream",
     "text": [
      "f [-39.98089999999999, -60.1974, -60.99898, -66.29086, -65.37309, -61.68098, -75.68137]\n",
      "d [-60.1974, -39.98089999999999, -60.99898, -66.29086, -65.37309, -61.68098, -75.68137]\n",
      "d [-61.68098, -60.1974, -60.99898, -66.29086, -65.37309, -39.98089999999999, -75.68137]\n",
      "d [-61.68098, -60.1974, -60.99898, -66.29086, -65.37309, -39.98089999999999, -75.68137]\n"
     ]
    }
   ],
   "source": [
    "dummysSwap= generateDummySwap(fingerprint,2,3)\n",
    "printFingerprintAndDummys(dummysSwap)"
   ]
  },
  {
   "cell_type": "code",
   "execution_count": 160,
   "metadata": {},
   "outputs": [],
   "source": [
    "def generateDummyShift( fingerprint, qtPos=1, qtDummy=5 ):\n",
    "    dummyResp = []\n",
    "    for i in range(0,qtDummy):\n",
    "        pos = (qtPos+i) % len(fingerprint) \n",
    "        dummyResp.append( fingerprint[pos:] + fingerprint[: pos] )\n",
    "    return dummyResp"
   ]
  },
  {
   "cell_type": "code",
   "execution_count": 161,
   "metadata": {},
   "outputs": [
    {
     "name": "stdout",
     "output_type": "stream",
     "text": [
      "f [-39.98089999999999, -60.1974, -60.99898, -66.29086, -65.37309, -61.68098, -75.68137]\n",
      "d [-60.1974, -60.99898, -66.29086, -65.37309, -61.68098, -75.68137, -39.98089999999999]\n",
      "d [-60.99898, -66.29086, -65.37309, -61.68098, -75.68137, -39.98089999999999, -60.1974]\n"
     ]
    }
   ],
   "source": [
    "dummysShift = generateDummyShift(fingerprint,1,2)\n",
    "printFingerprintAndDummys(dummysShift)"
   ]
  },
  {
   "cell_type": "code",
   "execution_count": 162,
   "metadata": {},
   "outputs": [],
   "source": [
    "def generateDummyMath( fingerprint, value, qtPos=1, qtDummy=5 ):\n",
    "    dummysResp=[]\n",
    "    for i in range(0,qtDummy):\n",
    "        dummy=fingerprint.copy()\n",
    "        randomPos = np.random.choice(range(0,len(fingerprint)-1),qtPos, replace=False)\n",
    "        print(randomPos)\n",
    "        for rp in randomPos:\n",
    "                dummy[rp] += value\n",
    "        dummysResp.append(dummy)\n",
    "    return dummysResp"
   ]
  },
  {
   "cell_type": "code",
   "execution_count": 163,
   "metadata": {},
   "outputs": [
    {
     "name": "stdout",
     "output_type": "stream",
     "text": [
      "[4]\n",
      "[4]\n",
      "f [-39.98089999999999, -60.1974, -60.99898, -66.29086, -65.37309, -61.68098, -75.68137]\n",
      "d [-39.98089999999999, -60.1974, -60.99898, -66.29086, -50.373090000000005, -61.68098, -75.68137]\n",
      "d [-39.98089999999999, -60.1974, -60.99898, -66.29086, -50.373090000000005, -61.68098, -75.68137]\n"
     ]
    }
   ],
   "source": [
    "dummysMath = generateDummyMath(fingerprint,15,1,2)\n",
    "printFingerprintAndDummys(dummysMath)"
   ]
  },
  {
   "cell_type": "code",
   "execution_count": 182,
   "metadata": {},
   "outputs": [],
   "source": [
    "def generateDummyMathVector( fingerprint, vector, qtDummy=5 ):\n",
    "    dummysResp=[]\n",
    "    for i in range(0,qtDummy):\n",
    "        dummy=fingerprint.copy()\n",
    "        if(len(dummy) == len(vector)):\n",
    "            dummy = np.add(dummy,vector)\n",
    "            #for index,d in enumerate(dummy):\n",
    "                #dummy[index] = d + vector[index]\n",
    "        else:\n",
    "            print(\"Vetor de tamanho diferente do fingerprint\")\n",
    "            return []\n",
    "        dummysResp.append(dummy)\n",
    "    return dummysResp"
   ]
  },
  {
   "cell_type": "code",
   "execution_count": 185,
   "metadata": {},
   "outputs": [
    {
     "name": "stdout",
     "output_type": "stream",
     "text": [
      "f [-39.98089999999999, -60.1974, -60.99898, -66.29086, -65.37309, -61.68098, -75.68137]\n",
      "d [-39.9809  -50.1974  -55.99898 -66.29086 -65.37309 -59.68098 -71.68137]\n",
      "d [-39.9809  -50.1974  -55.99898 -66.29086 -65.37309 -59.68098 -71.68137]\n",
      "-39.98089999999999\n"
     ]
    }
   ],
   "source": [
    "vectorTest = [0,10,5,0,0,2,4]\n",
    "dummysMathVector = generateDummyMathVector(fingerprint,vectorTest,2)\n",
    "printFingerprintAndDummys(dummysMathVector)"
   ]
  },
  {
   "cell_type": "code",
   "execution_count": 273,
   "metadata": {},
   "outputs": [],
   "source": [
    "def generateDummyMathMatrix( fingerprint, qtDummy=5 ):\n",
    "    dummysResp=[]\n",
    "    for i in range(0,qtDummy):\n",
    "        matrix = np.eye(len(fingerprint))\n",
    "        qtRandom = np.random.randint(0,10)\n",
    "        for rnd in range(qtRandom):\n",
    "            posX = np.random.randint(0,len(fingerprint))\n",
    "            posY = np.random.randint(0,len(fingerprint))\n",
    "            value = (np.random.random() * 0.2) - 0.1\n",
    "            matrix[posX][posY] += value\n",
    "        dummy = np.matmul(matrix,fingerprint)\n",
    "        dummysResp.append(dummy)\n",
    "       \n",
    "    return dummysResp"
   ]
  },
  {
   "cell_type": "code",
   "execution_count": 280,
   "metadata": {},
   "outputs": [
    {
     "name": "stdout",
     "output_type": "stream",
     "text": [
      "f [-39.98089999999999, -60.1974, -60.99898, -66.29086, -65.37309, -61.68098, -75.68137]\n",
      "d [-39.9809     -64.43756648 -60.99898    -74.74407352 -65.37309\n",
      " -64.9877473  -73.15108904]\n",
      "d [-39.9809  -60.1974  -60.99898 -66.29086 -65.37309 -61.68098 -75.68137]\n"
     ]
    }
   ],
   "source": [
    "dummysMathMatrix = generateDummyMathMatrix(fingerprint,2)\n",
    "printFingerprintAndDummys(dummysMathMatrix)"
   ]
  }
 ],
 "metadata": {
  "kernelspec": {
   "display_name": "Python 3",
   "language": "python",
   "name": "python3"
  },
  "language_info": {
   "codemirror_mode": {
    "name": "ipython",
    "version": 3
   },
   "file_extension": ".py",
   "mimetype": "text/x-python",
   "name": "python",
   "nbconvert_exporter": "python",
   "pygments_lexer": "ipython3",
   "version": "3.9.2"
  }
 },
 "nbformat": 4,
 "nbformat_minor": 2
}
