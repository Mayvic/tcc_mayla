{
 "cells": [
  {
   "cell_type": "code",
   "execution_count": 397,
   "metadata": {},
   "outputs": [],
   "source": [
    "import numpy as np\n"
   ]
  },
  {
   "cell_type": "code",
   "execution_count": 398,
   "metadata": {},
   "outputs": [],
   "source": [
    "fingerprint = [-39.98089999999999,-60.1974,-60.99898,-66.29086,-65.37309,-61.68098,-75.68137]\n",
    "####ler o fingerprint dos valores de teste"
   ]
  },
  {
   "cell_type": "code",
   "execution_count": 399,
   "metadata": {},
   "outputs": [],
   "source": [
    "#printa o fingerprint e os dummys\n",
    "def printFingerprintAndDummys(dummys): \n",
    "    print(\"f\",fingerprint)\n",
    "    for d in dummys:\n",
    "        print(\"d\",d)\n"
   ]
  },
  {
   "cell_type": "code",
   "execution_count": 400,
   "metadata": {},
   "outputs": [],
   "source": [
    "#altera o valor de qtPos posições aleatórias do fingerprint\n",
    "def generateDummySwap(fingerprint, qtPos=2, qtDummy=5): \n",
    "    #qtPos = qt de posições a serem alteradas\n",
    "    #qtDummy = qt de fingerprints dummy a serem criados\n",
    "    dummysResp = []\n",
    "    for i in range(0,qtDummy):\n",
    "        dummy = fingerprint.copy()\n",
    "        randomPos = np.random.choice(range(0,len(fingerprint)-1),qtPos, replace=False) \n",
    "        #sorteia qtPos posições entre 0 e 7(tamanho do fingerprint) com valores unicos(replace=False)\n",
    "        pos =[]\n",
    "        for rp in randomPos:\n",
    "            pos.append(fingerprint[rp]) #cria um vetor so com as posições sorteadas\n",
    "        pos = pos[1:] + pos[: 1] #muda as posições do vetor\n",
    "        i=0\n",
    "        for rp in randomPos:\n",
    "            dummy[rp] = pos[i] #volta os valores, agora com as posições trocadas, para o vetor original\n",
    "            i=i+1\n",
    "        dummysResp.append(dummy)\n",
    "    return dummysResp"
   ]
  },
  {
   "cell_type": "code",
   "execution_count": 401,
   "metadata": {},
   "outputs": [
    {
     "name": "stdout",
     "output_type": "stream",
     "text": [
      "f [-39.98089999999999, -60.1974, -60.99898, -66.29086, -65.37309, -61.68098, -75.68137]\n",
      "d [-65.37309, -60.1974, -60.99898, -66.29086, -39.98089999999999, -61.68098, -75.68137]\n",
      "d [-39.98089999999999, -60.1974, -61.68098, -66.29086, -65.37309, -60.99898, -75.68137]\n",
      "d [-60.99898, -60.1974, -39.98089999999999, -66.29086, -65.37309, -61.68098, -75.68137]\n"
     ]
    }
   ],
   "source": [
    "dummysSwap= generateDummySwap(fingerprint,2,3)\n",
    "printFingerprintAndDummys(dummysSwap)"
   ]
  },
  {
   "cell_type": "code",
   "execution_count": 402,
   "metadata": {},
   "outputs": [],
   "source": [
    "#realiza o shift left das posições do fingerprint\n",
    "def generateDummyShift( fingerprint, qtPos=1, qtDummy=5 ):\n",
    "    #qtPos = qt de posições a serem alteradas\n",
    "    #qtDummy = qt de fingerprints dummy a serem criados\n",
    "    dummyResp = []\n",
    "    for i in range(0,qtDummy):\n",
    "        pos = (qtPos+i) % len(fingerprint) \n",
    "        #a cada dummy ira alterar (qtPos + i) casas, caso esse valor passe do tamanho do vetor é feito o modulo\n",
    "        dummyResp.append( fingerprint[pos:] + fingerprint[: pos] )\n",
    "    return dummyResp"
   ]
  },
  {
   "cell_type": "code",
   "execution_count": 403,
   "metadata": {},
   "outputs": [
    {
     "name": "stdout",
     "output_type": "stream",
     "text": [
      "f [-39.98089999999999, -60.1974, -60.99898, -66.29086, -65.37309, -61.68098, -75.68137]\n",
      "d [-60.1974, -60.99898, -66.29086, -65.37309, -61.68098, -75.68137, -39.98089999999999]\n",
      "d [-60.99898, -66.29086, -65.37309, -61.68098, -75.68137, -39.98089999999999, -60.1974]\n"
     ]
    }
   ],
   "source": [
    "dummysShift = generateDummyShift(fingerprint,1,2)\n",
    "printFingerprintAndDummys(dummysShift)"
   ]
  },
  {
   "cell_type": "code",
   "execution_count": 404,
   "metadata": {},
   "outputs": [],
   "source": [
    "#soma um valor aleatório a qtPos aleatorias do fingerprint\n",
    "def generateDummyMath( fingerprint, qtPos=1, qtDummy=5 ):\n",
    "    #qtPos = qt de posições a serem alteradas\n",
    "    #qtDummy = qt de fingerprints dummy a serem criados\n",
    "    dummysResp=[]\n",
    "    value = np.random.random() * 20 -10 #sorteia um valor para ser somado\n",
    "    #print(\"v\", value)\n",
    "    for i in range(0,qtDummy):\n",
    "        dummy=fingerprint.copy()\n",
    "        randomPos = np.random.choice(range(0,len(fingerprint)-1),qtPos, replace=False)\n",
    "        #sorteia qtPos posições entre 0 e 7(tamanho do fingerprint) com valores unicos(replace=False)\n",
    "        #print(randomPos)\n",
    "        for rp in randomPos:\n",
    "                dummy[rp] += value #soma o valor apenas nas posições sorteadas\n",
    "        dummysResp.append(dummy)\n",
    "    return dummysResp"
   ]
  },
  {
   "cell_type": "code",
   "execution_count": 405,
   "metadata": {},
   "outputs": [
    {
     "name": "stdout",
     "output_type": "stream",
     "text": [
      "f [-39.98089999999999, -60.1974, -60.99898, -66.29086, -65.37309, -61.68098, -75.68137]\n",
      "d [-39.98089999999999, -60.82893873013683, -60.99898, -66.29086, -65.37309, -61.68098, -75.68137]\n",
      "d [-40.612438730136816, -60.1974, -60.99898, -66.29086, -65.37309, -61.68098, -75.68137]\n"
     ]
    }
   ],
   "source": [
    "dummysMath = generateDummyMath(fingerprint,1,2)\n",
    "printFingerprintAndDummys(dummysMath)"
   ]
  },
  {
   "cell_type": "code",
   "execution_count": 406,
   "metadata": {},
   "outputs": [],
   "source": [
    "#soma um vetor aleatório ao fingerprint\n",
    "def generateDummyMathVector( fingerprint, vector, qtDummy=5 ):\n",
    "    #qtDummy = qt de fingerprints dummy a serem criados\n",
    "    dummysResp=[]\n",
    "    vector = np.random.random(len(fingerprint)) * 20 -10  #sorteia um vetor de valores para ser somado\n",
    "    for i in range(0,qtDummy):\n",
    "        dummy = np.add(fingerprint,vector) #soma os vetores\n",
    "        dummysResp.append(dummy)\n",
    "    return dummysResp"
   ]
  },
  {
   "cell_type": "code",
   "execution_count": 407,
   "metadata": {},
   "outputs": [
    {
     "name": "stdout",
     "output_type": "stream",
     "text": [
      "f [-39.98089999999999, -60.1974, -60.99898, -66.29086, -65.37309, -61.68098, -75.68137]\n",
      "d [-42.8960567  -58.77693834 -66.10043969 -73.14586158 -55.51295534\n",
      " -65.55814913 -85.22745482]\n",
      "d [-42.8960567  -58.77693834 -66.10043969 -73.14586158 -55.51295534\n",
      " -65.55814913 -85.22745482]\n"
     ]
    }
   ],
   "source": [
    "vectorTest = [0,10,5,0,0,2,4]\n",
    "dummysMathVector = generateDummyMathVector(fingerprint,vectorTest,2)\n",
    "printFingerprintAndDummys(dummysMathVector)"
   ]
  },
  {
   "cell_type": "code",
   "execution_count": 408,
   "metadata": {},
   "outputs": [],
   "source": [
    "#multiplica uma matriz aleatória próxima a identidade pelo fingerprint \n",
    "def generateDummyMathMatrix( fingerprint, qtDummy=5 ):\n",
    "    #qtDummy = qt de fingerprints dummy a serem criados\n",
    "    dummysResp=[]\n",
    "    for i in range(0,qtDummy):\n",
    "        matrix = np.eye(len(fingerprint)) #cria a matriz aleatoria do tamanho do fingerprint\n",
    "        qtPos = np.random.randint(0,10) #sorteia uma quantidade de posições da matriz identidade para ser alterada\n",
    "        for rnd in range(qtPos):\n",
    "            posX = np.random.randint(0,len(fingerprint)) #sorteia uma posição X\n",
    "            posY = np.random.randint(0,len(fingerprint)) #sorteia uma posição Y\n",
    "            value = (np.random.random() * 0.2) - 0.1 #sorteia um valor entre -0.1 e 0.1 \n",
    "            matrix[posX][posY] += value #soma o valor na posição [X][Y] da matriz\n",
    "        dummy = np.matmul(matrix,fingerprint) #multiplica a matriz pelo fingerprint\n",
    "        dummysResp.append(dummy)\n",
    "    return dummysResp"
   ]
  },
  {
   "cell_type": "code",
   "execution_count": 410,
   "metadata": {},
   "outputs": [
    {
     "name": "stdout",
     "output_type": "stream",
     "text": [
      "f [-39.98089999999999, -60.1974, -60.99898, -66.29086, -65.37309, -61.68098, -75.68137]\n",
      "d [-49.75262541 -60.68787073 -58.42689393 -69.7357652  -65.37309\n",
      " -65.18643843 -75.68137   ]\n",
      "d [-38.21040302 -51.1865326  -57.03762349 -64.77675239 -65.37309\n",
      " -67.23987837 -75.68137   ]\n"
     ]
    }
   ],
   "source": [
    "dummysMathMatrix = generateDummyMathMatrix(fingerprint,2)\n",
    "printFingerprintAndDummys(dummysMathMatrix)"
   ]
  }
 ],
 "metadata": {
  "kernelspec": {
   "display_name": "Python 3",
   "language": "python",
   "name": "python3"
  },
  "language_info": {
   "codemirror_mode": {
    "name": "ipython",
    "version": 3
   },
   "file_extension": ".py",
   "mimetype": "text/x-python",
   "name": "python",
   "nbconvert_exporter": "python",
   "pygments_lexer": "ipython3",
   "version": "3.9.2"
  }
 },
 "nbformat": 4,
 "nbformat_minor": 2
}
