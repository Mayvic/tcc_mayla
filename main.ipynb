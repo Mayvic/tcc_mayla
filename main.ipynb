{
 "cells": [
  {
   "cell_type": "code",
   "execution_count": 1,
   "metadata": {},
   "outputs": [],
   "source": [
    "from source.dummyCreator import createAndSaveDummys\n",
    "from source.modelo import datasetTest1, datasetTest3, knn1, knn3\n",
    "from source.metrics import calculateMetrics\n",
    "import numpy as np\n",
    "import pandas as pd"
   ]
  },
  {
   "cell_type": "code",
   "execution_count": 2,
   "metadata": {},
   "outputs": [
    {
     "name": "stderr",
     "output_type": "stream",
     "text": [
      "c:\\Users\\mayla\\OneDrive\\Documentos\\Rural\\2024.2\\TCC\\tcc_mayla\\source\\dummyCreator.py:172: FutureWarning: Starting with pandas version 3.0 all arguments of to_csv except for the argument 'path_or_buf' will be keyword-only.\n",
      "  dummys.to_csv(filename, ',', index=False)\n",
      "c:\\Users\\mayla\\OneDrive\\Documentos\\Rural\\2024.2\\TCC\\tcc_mayla\\source\\dummyCreator.py:172: FutureWarning: Starting with pandas version 3.0 all arguments of to_csv except for the argument 'path_or_buf' will be keyword-only.\n",
      "  dummys.to_csv(filename, ',', index=False)\n"
     ]
    }
   ],
   "source": [
    "### ESTA CÉLULA DEMORA CERCA DE 2H PRA RODAR\n",
    "### APENAS EXECUTAR CASO HAJA ALTERAÇÃO NA createAndSaveDummys\n",
    "qtDummy = 5\n",
    "#cria os arquivos com os dummys de todos os métodos com variações de parâmetros\n",
    "dummys1 = createAndSaveDummys(datasetTest1['fingerprints'], qtDummy, 'data/dummys1.csv')\n",
    "dummys3 = createAndSaveDummys(datasetTest3['fingerprints'], qtDummy, 'data/dummys3.csv')"
   ]
  },
  {
   "cell_type": "code",
   "execution_count": 3,
   "metadata": {},
   "outputs": [],
   "source": [
    "dummys1 = pd.read_csv('data/dummys1.csv')\n",
    "dummys3 = pd.read_csv('data/dummys3.csv')"
   ]
  },
  {
   "cell_type": "code",
   "execution_count": 4,
   "metadata": {},
   "outputs": [],
   "source": [
    "#utiliza o modelo para prever os dummys\n",
    "def predictDummys(dummys):\n",
    "    dummysArray = dummys['dummy'].str.split(',')\n",
    "    dummysArray = np.array(dummysArray.tolist(), dtype=float)\n",
    "    coords = knn1.predict(dummysArray)\n",
    "    dummysCoords = dummys.copy(True) #copia a tabela para gerar uma nova tabela de saída\n",
    "    dummysCoords['coords'] = coords\n",
    "    return dummysCoords"
   ]
  },
  {
   "cell_type": "code",
   "execution_count": 5,
   "metadata": {},
   "outputs": [],
   "source": [
    "#preve os dummys e salva em tabelas junto com suas coordenadas\n",
    "dummys1Coords = predictDummys(dummys1)\n",
    "dummys1Coords.to_csv('data/dummys1_response_model.csv', index=False)\n",
    "\n",
    "dummys3Coords = predictDummys(dummys3)\n",
    "dummys3Coords.to_csv('data/dummys3_response_model.csv', index=False)"
   ]
  },
  {
   "cell_type": "code",
   "execution_count": 6,
   "metadata": {},
   "outputs": [],
   "source": [
    "#calcula as métricas e salva em tabelas\n",
    "metrics1 = calculateMetrics(dummys1Coords)\n",
    "metrics1.to_csv('data/result_metrics1.csv', index=False)\n",
    "\n",
    "metrics3 = calculateMetrics(dummys3Coords)\n",
    "metrics3.to_csv('data/result_metrics3.csv', index=False)"
   ]
  },
  {
   "cell_type": "code",
   "execution_count": null,
   "metadata": {},
   "outputs": [],
   "source": []
  }
 ],
 "metadata": {
  "kernelspec": {
   "display_name": "Python 3",
   "language": "python",
   "name": "python3"
  },
  "language_info": {
   "codemirror_mode": {
    "name": "ipython",
    "version": 3
   },
   "file_extension": ".py",
   "mimetype": "text/x-python",
   "name": "python",
   "nbconvert_exporter": "python",
   "pygments_lexer": "ipython3",
   "version": "3.9.2"
  }
 },
 "nbformat": 4,
 "nbformat_minor": 2
}
