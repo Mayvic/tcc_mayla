{
 "cells": [
  {
   "cell_type": "code",
   "execution_count": null,
   "metadata": {},
   "outputs": [],
   "source": [
    "import numpy as np\n",
    "import pandas as pd\n",
    "\n",
    "from source.modelo import datasetTest1, datasetTest3"
   ]
  },
  {
   "cell_type": "code",
   "execution_count": 5,
   "metadata": {},
   "outputs": [
    {
     "data": {
      "text/plain": [
       "array([[-39.9809    , -60.1974    , -60.99898   , -66.29086   ,\n",
       "        -65.37309   , -61.68098   , -75.68137   ],\n",
       "       [-42.99193   , -64.46239   , -59.80944   , -68.87126667,\n",
       "        -61.90949   , -63.26378889, -77.10021111],\n",
       "       [-40.17031   , -60.09391111, -55.82423   , -67.12197   ,\n",
       "        -64.27373   , -64.75741   , -76.33256667],\n",
       "       [-41.35735   , -60.82048   , -60.35931111, -65.81305   ,\n",
       "        -66.50108889, -64.8152    , -72.6427875 ],\n",
       "       [-44.21378   , -61.15255   , -58.72766   , -70.9237    ,\n",
       "        -65.6133    , -65.4316    , -75.50843333]])"
      ]
     },
     "execution_count": 5,
     "metadata": {},
     "output_type": "execute_result"
    }
   ],
   "source": [
    "fingerprint = [\n",
    "    [-39.98089999999999,-60.1974,-60.99898,-66.29086,-65.37309,-61.68098,-75.68137],\n",
    "    [-42.99193,-64.46239,-59.80944,-68.87126666666667,-61.90949,-63.26378888888889,-77.10021111111111],\n",
    "    [-40.17030999999999,-60.09391111111111,-55.82423,-67.12197,-64.27373,-64.75741,-76.33256666666666],\n",
    "    [-41.35735,-60.82048,-60.35931111111111,-65.81305,-66.50108888888889,-64.8152,-72.6427875],\n",
    "    [-44.21378,-61.15255,-58.72766,-70.9237,-65.6133,-65.4316,-75.50843333333333],\n",
    "]\n",
    "fingerprint = np.array(fingerprint)\n",
    "fingerprint\n",
    "####ler o fingerprint dos valores de teste"
   ]
  },
  {
   "cell_type": "code",
   "execution_count": null,
   "metadata": {},
   "outputs": [],
   "source": [
    "#printa o fingerprint e os dummys\n",
    "def printFingerprintAndDummys(dummys): \n",
    "    print(\"f\",fingerprint)\n",
    "    for d in dummys:\n",
    "        print(\"d\",d)\n"
   ]
  },
  {
   "cell_type": "code",
   "execution_count": 8,
   "metadata": {},
   "outputs": [
    {
     "name": "stdout",
     "output_type": "stream",
     "text": [
      "84.3 µs ± 528 ns per loop (mean ± std. dev. of 7 runs, 10,000 loops each)\n"
     ]
    }
   ],
   "source": [
    "#altera o valor de qtPos posições aleatórias do fingerprint\n",
    "def generateDummySwap(fingerprint, qtPos=2): \n",
    "    #qtPos = qt de posições a serem alteradas\n",
    "    dummysResp = fingerprint.copy()\n",
    "    randomPos = np.random.choice(range(0,len(fingerprint)-1),qtPos, replace=False) \n",
    "    #sorteia qtPos posições entre 0 e 7(tamanho do fingerprint) com valores unicos(replace=False)\n",
    "    pos =[]\n",
    "    for rp in randomPos:\n",
    "        pos.append(fingerprint[rp]) #cria um vetor so com as posições sorteadas\n",
    "    pos = pos[1:] + pos[: 1] #muda as posições do vetor\n",
    "    i=0\n",
    "    for rp in randomPos:\n",
    "        dummysResp[rp] = pos[i] #volta os valores, agora com as posições trocadas, para o vetor original\n",
    "        i=i+1\n",
    "    return dummysResp\n",
    "\n",
    "def gen1():\n",
    "    for row in fingerprint:\n",
    "        generateDummySwap(row, qtPos=2)\n",
    "%timeit gen1()"
   ]
  },
  {
   "cell_type": "code",
   "execution_count": null,
   "metadata": {},
   "outputs": [],
   "source": [
    "#realiza o shift left das posições do fingerprint\n",
    "def generateDummyShift( fingerprint, qtPos=1):\n",
    "    #qtPos = qt de posições a serem alteradas\n",
    "    pos = (qtPos) % len(fingerprint) \n",
    "    #a cada dummy ira alterar (qtPos) casas\n",
    "    #caso esse valor seja maior que o tamanho do vetor é feito o modulo\n",
    "    dummyResp =  fingerprint[pos:] + fingerprint[: pos]\n",
    "    return dummyResp"
   ]
  },
  {
   "cell_type": "code",
   "execution_count": null,
   "metadata": {},
   "outputs": [],
   "source": [
    "#soma um valor aleatório a qtPos aleatorias do fingerprint\n",
    "def generateDummyMath( fingerprint, value, qtPos=1):\n",
    "    #qtPos = qt de posições a serem alteradas\n",
    "    #if(not value): value = np.random.random() * 20 -10 #sorteia um valor para ser somado\n",
    "    dummysResp = fingerprint.copy()\n",
    "    randomPos = np.random.choice(range(0,len(fingerprint)-1),qtPos, replace=False)\n",
    "    #sorteia qtPos posições entre 0 e 7(tamanho do fingerprint) com valores unicos(replace=False)\n",
    "    #print(randomPos)\n",
    "    for rp in randomPos:\n",
    "            dummysResp[rp] += value #soma o valor apenas nas posições sorteadas\n",
    "    return dummysResp"
   ]
  },
  {
   "cell_type": "code",
   "execution_count": null,
   "metadata": {},
   "outputs": [],
   "source": [
    "#soma um vetor aleatório ao fingerprint\n",
    "def generateDummyMathVector( fingerprint, vector):\n",
    "    dummysResp=[]\n",
    "    #if(not vector): vector = np.random.random(len(fingerprint)) * 20 -10  #sorteia um vetor de valores para ser somado\n",
    "    dummysResp = np.add(fingerprint,vector) #soma os vetores\n",
    "    return dummysResp"
   ]
  },
  {
   "cell_type": "code",
   "execution_count": null,
   "metadata": {},
   "outputs": [],
   "source": [
    "#multiplica uma matriz aleatória próxima a identidade pelo fingerprint \n",
    "def generateDummyMathMatrix(fingerprint, variation=0.1):\n",
    "    #qtDummy = qt de fingerprints dummy a serem criados\n",
    "    matrix = np.eye(len(fingerprint)) #cria a matriz aleatoria do tamanho do fingerprint\n",
    "    qtPos = np.random.randint(0,10) #sorteia uma quantidade de posições da matriz identidade para ser alterada\n",
    "    for rnd in range(qtPos):\n",
    "        posX = np.random.randint(0,len(fingerprint)) #sorteia uma posição X\n",
    "        posY = np.random.randint(0,len(fingerprint)) #sorteia uma posição Y\n",
    "        value = np.random.uniform(-variation, variation)#sorteia um valor entre -variation e variation\n",
    "        matrix[posX][posY] += value #soma o valor na posição [X][Y] da matriz\n",
    "    dummysResp = np.matmul(matrix,fingerprint) #multiplica a matriz pelo fingerprint\n",
    "    return dummysResp"
   ]
  },
  {
   "cell_type": "code",
   "execution_count": null,
   "metadata": {},
   "outputs": [],
   "source": [
    "qtDummy = 5\n",
    "dummysSwap= []\n",
    "dummysShift= []\n",
    "dummysMath= []\n",
    "dummysMathVector= []\n",
    "dummysMathMatrix = []\n",
    "for i in range(0,qtDummy):\n",
    "    ####SWAP\n",
    "    swap= generateDummySwap(fingerprint,2)\n",
    "    dummysSwap.append(swap)\n",
    "\n",
    "    ####SHIFT\n",
    "    shift = generateDummyShift(fingerprint,1)\n",
    "    dummysShift.append(shift)\n",
    "\n",
    "    ####MATH\n",
    "    #value = np.random.random() * 40 - 20 #sorteia um valor para ser somado\n",
    "    value = np.random.uniform(-40,40) #sorteia um valor para ser somado\n",
    "    math = generateDummyMath(fingerprint, value, 1)\n",
    "    dummysMath.append(math)\n",
    "\n",
    "    ####VECTOR\n",
    "    #vector = np.random.random(len(fingerprint)) * 20 - 10  #sorteia um vetor de valores para ser somado\n",
    "    vector = np.random.uniform(-40,40,len(fingerprint))  #sorteia um vetor de valores para ser somado\n",
    "    mathVector = generateDummyMathVector(fingerprint,vector)\n",
    "    dummysMathVector.append(mathVector)\n",
    "\n",
    "    ####MATRIX\n",
    "    ##testar valores de alteração da matriz \n",
    "    mathMatrix = generateDummyMathMatrix(fingerprint, 0.2)\n",
    "    dummysMathMatrix.append(mathMatrix)\n",
    "\n",
    "\n",
    "print(\"dummysSwap\")\n",
    "##OK## printFingerprintAndDummys(dummysSwap)\n",
    "#dummysSwap.to_csv(\"dummysSwap\", '\\n', index=False, header=False)\n",
    "\n",
    "print(\"dummysShift\")\n",
    "##OK## printFingerprintAndDummys(dummysShift)\n",
    "\n",
    "print(\"dummysMath\")\n",
    "##OK## printFingerprintAndDummys(dummysMath)\n",
    "\n",
    "#o vector precisa ser do mesmo tamanho do fingerprint\n",
    "print(\"dummysMathVector\")\n",
    "##OK## printFingerprintAndDummys(dummysMathVector)\n",
    "\n",
    "print(\"dummysMathMatrix\")\n",
    "##OK## printFingerprintAndDummys(dummysMathMatrix)"
   ]
  },
  {
   "cell_type": "code",
   "execution_count": null,
   "metadata": {},
   "outputs": [],
   "source": [
    "## Otimização do código"
   ]
  }
 ],
 "metadata": {
  "kernelspec": {
   "display_name": "Python 3",
   "language": "python",
   "name": "python3"
  },
  "language_info": {
   "codemirror_mode": {
    "name": "ipython",
    "version": 3
   },
   "file_extension": ".py",
   "mimetype": "text/x-python",
   "name": "python",
   "nbconvert_exporter": "python",
   "pygments_lexer": "ipython3",
   "version": "3.9.2"
  }
 },
 "nbformat": 4,
 "nbformat_minor": 2
}
